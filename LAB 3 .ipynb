{
 "cells": [
  {
   "cell_type": "code",
   "execution_count": 1,
   "id": "b1aaeb29",
   "metadata": {},
   "outputs": [],
   "source": [
    "import numpy as np"
   ]
  },
  {
   "cell_type": "code",
   "execution_count": 4,
   "id": "98750a65",
   "metadata": {},
   "outputs": [],
   "source": [
    "x1= np.array([-1,-1,1,1])\n",
    "x2= np.array([-1,1,-1,1])\n",
    "b= np.array([1,1,1,1])\n",
    "y=[]"
   ]
  },
  {
   "cell_type": "code",
   "execution_count": 6,
   "id": "8a930c9e",
   "metadata": {},
   "outputs": [],
   "source": [
    "for i in range(len(x1)):\n",
    "    if x1[i]==-1 or x2[i]==-1:\n",
    "        y.append(-1)\n",
    "    else:\n",
    "        y.append(1)\n",
    "        "
   ]
  },
  {
   "cell_type": "code",
   "execution_count": 8,
   "id": "7081cb57",
   "metadata": {},
   "outputs": [
    {
     "name": "stdout",
     "output_type": "stream",
     "text": [
      "[-1, -1, -1, 1]\n"
     ]
    }
   ],
   "source": [
    "print(y)"
   ]
  },
  {
   "cell_type": "code",
   "execution_count": 12,
   "id": "51eb0b58",
   "metadata": {},
   "outputs": [],
   "source": [
    "deltaw1=[]\n",
    "deltaw2=[]\n",
    "deltab=y\n",
    "for i in range(len(x1)):\n",
    "    deltaw1.append(x1[i]*y[i])\n",
    "for i in range(len(x2)):\n",
    "    deltaw2.append(x2[i]*y[i])\n"
   ]
  },
  {
   "cell_type": "code",
   "execution_count": 13,
   "id": "ca12581a",
   "metadata": {},
   "outputs": [
    {
     "name": "stdout",
     "output_type": "stream",
     "text": [
      "[1, 1, -1, 1]\n",
      "[1, -1, 1, 1]\n",
      "[-1, -1, -1, 1]\n"
     ]
    }
   ],
   "source": [
    "print(deltaw1)\n",
    "print(deltaw2)\n",
    "print(deltab)"
   ]
  },
  {
   "cell_type": "code",
   "execution_count": 16,
   "id": "fcde6e17",
   "metadata": {},
   "outputs": [],
   "source": [
    "w1=[0,]\n",
    "w2=[0,]\n",
    "b=[0,]"
   ]
  },
  {
   "cell_type": "code",
   "execution_count": 17,
   "id": "54097209",
   "metadata": {},
   "outputs": [],
   "source": [
    "for i in range(len(deltaw1)):\n",
    "    if i==0:\n",
    "        w1[i]= w1[i]+deltaw1[i]\n",
    "        w2[i]= w2[i]+deltaw2[i]\n",
    "        b[i]= b[i]+deltab[i]\n",
    "    else:\n",
    "        w1.append(w1[i-1]+deltaw1[i])\n",
    "        w2.append(w2[i-1]+deltaw2[i])\n",
    "        b.append(b[i-1]+deltab[i])"
   ]
  },
  {
   "cell_type": "code",
   "execution_count": 18,
   "id": "0aa83186",
   "metadata": {},
   "outputs": [
    {
     "name": "stdout",
     "output_type": "stream",
     "text": [
      "[1, 2, 1, 2]\n",
      "[1, 0, 1, 2]\n",
      "[-1, -2, -3, -2]\n"
     ]
    }
   ],
   "source": [
    "print(w1)\n",
    "print(w2)\n",
    "print(b)"
   ]
  },
  {
   "cell_type": "code",
   "execution_count": null,
   "id": "d84b9897",
   "metadata": {},
   "outputs": [],
   "source": []
  }
 ],
 "metadata": {
  "kernelspec": {
   "display_name": "Python 3 (ipykernel)",
   "language": "python",
   "name": "python3"
  },
  "language_info": {
   "codemirror_mode": {
    "name": "ipython",
    "version": 3
   },
   "file_extension": ".py",
   "mimetype": "text/x-python",
   "name": "python",
   "nbconvert_exporter": "python",
   "pygments_lexer": "ipython3",
   "version": "3.10.4"
  }
 },
 "nbformat": 4,
 "nbformat_minor": 5
}

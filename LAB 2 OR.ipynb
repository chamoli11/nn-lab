{
 "cells": [
  {
   "cell_type": "code",
   "execution_count": 1,
   "id": "308fe471",
   "metadata": {},
   "outputs": [],
   "source": [
    "import numpy as np\n"
   ]
  },
  {
   "cell_type": "code",
   "execution_count": 2,
   "id": "4e7e3412",
   "metadata": {},
   "outputs": [],
   "source": [
    "truthtable= np.array([[0,0,1,1],[0,1,0,1]])"
   ]
  },
  {
   "cell_type": "code",
   "execution_count": 3,
   "id": "7032845a",
   "metadata": {},
   "outputs": [
    {
     "name": "stdout",
     "output_type": "stream",
     "text": [
      "[[0 0 1 1]\n",
      " [0 1 0 1]]\n"
     ]
    }
   ],
   "source": [
    "print(truthtable)"
   ]
  },
  {
   "cell_type": "code",
   "execution_count": 4,
   "id": "5e5d0add",
   "metadata": {},
   "outputs": [],
   "source": [
    "w1=0\n",
    "w2=0\n",
    "T= 0"
   ]
  },
  {
   "cell_type": "code",
   "execution_count": 5,
   "id": "56daffe7",
   "metadata": {},
   "outputs": [],
   "source": [
    "z= np.array([0,1,1,1])"
   ]
  },
  {
   "cell_type": "code",
   "execution_count": 6,
   "id": "d556af2e",
   "metadata": {},
   "outputs": [],
   "source": [
    "def acti(gx,T):\n",
    "    if gx>=T:\n",
    "        return 1\n",
    "    else:\n",
    "        return 0"
   ]
  },
  {
   "cell_type": "code",
   "execution_count": 7,
   "id": "203fbb79",
   "metadata": {},
   "outputs": [],
   "source": [
    "def check(w1,w2,T):\n",
    "    o= np.array([0,0,0,0])\n",
    "    for j in range(4):\n",
    "        o[j]= w1*truthtable[0][j]+ w2*truthtable[1][j]\n",
    "    trial=[]\n",
    "    for i in range(len(o)):\n",
    "        ans= acti(o[i],T)\n",
    "        trial.append(ans)\n",
    "    trial= np.asarray(trial)\n",
    "    \n",
    "    comparison = trial == z\n",
    "    equal_arrays = comparison.all()\n",
    "    if equal_arrays:\n",
    "        print(\" weigths 1 and 2 are :\", w1, w1)\n",
    "        print(\" threshhold is \", T)\n",
    "         \n",
    "    else:\n",
    "        \n",
    "        w1=+1\n",
    "        w2=+1\n",
    "        T=+1\n",
    "        check(w1,w2,T)"
   ]
  },
  {
   "cell_type": "code",
   "execution_count": 8,
   "id": "f30ebddc",
   "metadata": {},
   "outputs": [
    {
     "name": "stdout",
     "output_type": "stream",
     "text": [
      " weigths 1 and 2 are : 1 1\n",
      " threshhold is  1\n"
     ]
    },
    {
     "ename": "TypeError",
     "evalue": "cannot unpack non-iterable NoneType object",
     "output_type": "error",
     "traceback": [
      "\u001b[1;31m---------------------------------------------------------------------------\u001b[0m",
      "\u001b[1;31mTypeError\u001b[0m                                 Traceback (most recent call last)",
      "Input \u001b[1;32mIn [8]\u001b[0m, in \u001b[0;36m<cell line: 1>\u001b[1;34m()\u001b[0m\n\u001b[1;32m----> 1\u001b[0m w1,w2,T\u001b[38;5;241m=\u001b[39m check(w1,w2,T)\n\u001b[0;32m      2\u001b[0m \u001b[38;5;28mprint\u001b[39m(w1,w2)\n",
      "\u001b[1;31mTypeError\u001b[0m: cannot unpack non-iterable NoneType object"
     ]
    }
   ],
   "source": [
    "w1,w2,T= check(w1,w2,T)\n",
    "print(w1,w2)"
   ]
  },
  {
   "cell_type": "code",
   "execution_count": null,
   "id": "76168046",
   "metadata": {},
   "outputs": [],
   "source": [
    "print(f\"equation is {w1}*x1+ {w2}* x2= z\")"
   ]
  },
  {
   "cell_type": "code",
   "execution_count": null,
   "id": "dc0157fc",
   "metadata": {},
   "outputs": [],
   "source": []
  }
 ],
 "metadata": {
  "kernelspec": {
   "display_name": "Python 3 (ipykernel)",
   "language": "python",
   "name": "python3"
  },
  "language_info": {
   "codemirror_mode": {
    "name": "ipython",
    "version": 3
   },
   "file_extension": ".py",
   "mimetype": "text/x-python",
   "name": "python",
   "nbconvert_exporter": "python",
   "pygments_lexer": "ipython3",
   "version": "3.10.4"
  }
 },
 "nbformat": 4,
 "nbformat_minor": 5
}
